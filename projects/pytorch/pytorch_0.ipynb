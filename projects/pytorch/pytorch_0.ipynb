{
  "cells": [
    {
      "cell_type": "markdown",
      "metadata": {
        "id": "J720o2AxqslJ"
      },
      "source": [
        "## Setup"
      ]
    },
    {
      "cell_type": "code",
      "execution_count": 2,
      "metadata": {
        "colab": {
          "base_uri": "https://localhost:8080/"
        },
        "id": "7N8A20JdF-3D",
        "outputId": "e2e11f5d-26ea-490f-8264-2a0c68de9f70"
      },
      "outputs": [
        {
          "name": "stdout",
          "output_type": "stream",
          "text": [
            "hello world\n"
          ]
        }
      ],
      "source": [
        "print(\"hello world\")"
      ]
    },
    {
      "cell_type": "code",
      "execution_count": 27,
      "metadata": {
        "colab": {
          "base_uri": "https://localhost:8080/"
        },
        "id": "7owesEHpIq2L",
        "outputId": "50fc4f68-6e44-45f8-aa0e-aa55248920c9"
      },
      "outputs": [
        {
          "name": "stdout",
          "output_type": "stream",
          "text": [
            "1.13.1+cpu\n"
          ]
        }
      ],
      "source": [
        "import torch\n",
        "import pandas as pd\n",
        "import numpy as np\n",
        "import matplotlib.pyplot as plt\n",
        "\n",
        "print(torch.__version__)"
      ]
    },
    {
      "attachments": {},
      "cell_type": "markdown",
      "metadata": {},
      "source": [
        "## Tensor type"
      ]
    },
    {
      "cell_type": "markdown",
      "metadata": {
        "id": "H4rFLSduow-g"
      },
      "source": [
        "![download.png](data:image/png;base64,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)"
      ]
    },
    {
      "attachments": {},
      "cell_type": "markdown",
      "metadata": {
        "id": "Whurt4hDqdW8"
      },
      "source": [
        "### Scalar"
      ]
    },
    {
      "cell_type": "code",
      "execution_count": 4,
      "metadata": {
        "colab": {
          "base_uri": "https://localhost:8080/"
        },
        "id": "mELJGO2zn0xK",
        "outputId": "b00a2408-d695-4945-9be0-3413c29868e3"
      },
      "outputs": [
        {
          "data": {
            "text/plain": [
              "tensor(7)"
            ]
          },
          "execution_count": 4,
          "metadata": {},
          "output_type": "execute_result"
        }
      ],
      "source": [
        "scalar = torch.tensor(7)\n",
        "scalar"
      ]
    },
    {
      "cell_type": "code",
      "execution_count": 5,
      "metadata": {
        "colab": {
          "base_uri": "https://localhost:8080/"
        },
        "id": "QLzSWingqJWf",
        "outputId": "99d18a4f-58c8-4c2a-b2fd-7598671122b2"
      },
      "outputs": [
        {
          "data": {
            "text/plain": [
              "0"
            ]
          },
          "execution_count": 5,
          "metadata": {},
          "output_type": "execute_result"
        }
      ],
      "source": [
        "scalar.ndim"
      ]
    },
    {
      "cell_type": "code",
      "execution_count": 6,
      "metadata": {
        "colab": {
          "base_uri": "https://localhost:8080/"
        },
        "id": "MeyupHX1qNVv",
        "outputId": "e4afe4b4-5877-4d06-b168-a5b42ec08bd1"
      },
      "outputs": [
        {
          "data": {
            "text/plain": [
              "7"
            ]
          },
          "execution_count": 6,
          "metadata": {},
          "output_type": "execute_result"
        }
      ],
      "source": [
        "scalar.item()"
      ]
    },
    {
      "attachments": {},
      "cell_type": "markdown",
      "metadata": {
        "id": "xRzUNyBoqiZ8"
      },
      "source": [
        "### Vector"
      ]
    },
    {
      "cell_type": "code",
      "execution_count": 7,
      "metadata": {
        "colab": {
          "base_uri": "https://localhost:8080/"
        },
        "id": "gT9AOVFJoXhz",
        "outputId": "e65265ce-39cd-460a-cc23-ca77126a979e"
      },
      "outputs": [
        {
          "data": {
            "text/plain": [
              "tensor([7, 7])"
            ]
          },
          "execution_count": 7,
          "metadata": {},
          "output_type": "execute_result"
        }
      ],
      "source": [
        "vector = torch.tensor([7,7])\n",
        "vector"
      ]
    },
    {
      "cell_type": "code",
      "execution_count": 8,
      "metadata": {
        "colab": {
          "base_uri": "https://localhost:8080/"
        },
        "id": "F5_zrR0VqXoy",
        "outputId": "9ca02d75-d419-4b2d-aee8-9ea45354fc02"
      },
      "outputs": [
        {
          "data": {
            "text/plain": [
              "(1, torch.Size([2]))"
            ]
          },
          "execution_count": 8,
          "metadata": {},
          "output_type": "execute_result"
        }
      ],
      "source": [
        "vector.ndim, vector.shape"
      ]
    },
    {
      "attachments": {},
      "cell_type": "markdown",
      "metadata": {
        "id": "O57O1iaXq6gC"
      },
      "source": [
        "### MATRIX"
      ]
    },
    {
      "cell_type": "code",
      "execution_count": 9,
      "metadata": {
        "colab": {
          "base_uri": "https://localhost:8080/"
        },
        "id": "oLU_IhmEq8J1",
        "outputId": "5aa6b7b0-169c-4ea5-de1c-6362140e10be"
      },
      "outputs": [
        {
          "data": {
            "text/plain": [
              "tensor([[ 7,  8],\n",
              "        [ 9, 10]])"
            ]
          },
          "execution_count": 9,
          "metadata": {},
          "output_type": "execute_result"
        }
      ],
      "source": [
        "MATRIX = torch.tensor([[7,8],\n",
        "                       [9,10]])\n",
        "MATRIX"
      ]
    },
    {
      "cell_type": "code",
      "execution_count": 10,
      "metadata": {
        "colab": {
          "base_uri": "https://localhost:8080/"
        },
        "id": "JDEk720yrQ7y",
        "outputId": "f2247c86-09e6-4b0c-cdc9-09c09e612594"
      },
      "outputs": [
        {
          "data": {
            "text/plain": [
              "(2, torch.Size([2, 2]))"
            ]
          },
          "execution_count": 10,
          "metadata": {},
          "output_type": "execute_result"
        }
      ],
      "source": [
        "MATRIX.ndim, MATRIX.shape"
      ]
    },
    {
      "cell_type": "code",
      "execution_count": 11,
      "metadata": {
        "colab": {
          "base_uri": "https://localhost:8080/"
        },
        "id": "7FMqo13BrY7j",
        "outputId": "1b978202-a0c2-4a7d-fb83-512f2b8dd481"
      },
      "outputs": [
        {
          "data": {
            "text/plain": [
              "tensor([7, 8])"
            ]
          },
          "execution_count": 11,
          "metadata": {},
          "output_type": "execute_result"
        }
      ],
      "source": [
        "MATRIX[0]"
      ]
    },
    {
      "attachments": {},
      "cell_type": "markdown",
      "metadata": {
        "id": "m-Q4Z_QNrqF7"
      },
      "source": [
        "### TENSOR"
      ]
    },
    {
      "cell_type": "code",
      "execution_count": 12,
      "metadata": {
        "colab": {
          "base_uri": "https://localhost:8080/"
        },
        "id": "Pba3ByNhrr2j",
        "outputId": "c5c84741-0908-4525-c77b-75580675c284"
      },
      "outputs": [
        {
          "data": {
            "text/plain": [
              "tensor([[[1, 2, 3],\n",
              "         [3, 6, 9],\n",
              "         [2, 4, 5]]])"
            ]
          },
          "execution_count": 12,
          "metadata": {},
          "output_type": "execute_result"
        }
      ],
      "source": [
        "TENSOR = torch.tensor([[[1,2,3],\n",
        "                        [3,6,9],\n",
        "                        [2,4,5]]])\n",
        "TENSOR"
      ]
    },
    {
      "cell_type": "code",
      "execution_count": 13,
      "metadata": {
        "colab": {
          "base_uri": "https://localhost:8080/"
        },
        "id": "SRnb2IlLr639",
        "outputId": "150cf396-3410-4b7d-c82e-cb36aa6bb4c7"
      },
      "outputs": [
        {
          "data": {
            "text/plain": [
              "(3, torch.Size([1, 3, 3]))"
            ]
          },
          "execution_count": 13,
          "metadata": {},
          "output_type": "execute_result"
        }
      ],
      "source": [
        "TENSOR.ndim, TENSOR.shape"
      ]
    },
    {
      "cell_type": "code",
      "execution_count": 14,
      "metadata": {
        "colab": {
          "base_uri": "https://localhost:8080/"
        },
        "id": "j2ughsfhsO3a",
        "outputId": "448aa818-a29b-4fa1-ef09-afa68dd94128"
      },
      "outputs": [
        {
          "data": {
            "text/plain": [
              "tensor([[1, 2, 3],\n",
              "        [3, 6, 9],\n",
              "        [2, 4, 5]])"
            ]
          },
          "execution_count": 14,
          "metadata": {},
          "output_type": "execute_result"
        }
      ],
      "source": [
        "TENSOR[0]"
      ]
    },
    {
      "attachments": {},
      "cell_type": "markdown",
      "metadata": {
        "id": "2FGLL-UJ58Dm"
      },
      "source": [
        "### Random tensors"
      ]
    },
    {
      "cell_type": "code",
      "execution_count": 15,
      "metadata": {
        "colab": {
          "base_uri": "https://localhost:8080/"
        },
        "id": "MPUhPwg07DVu",
        "outputId": "0cc6c171-261c-4637-a2ea-2890db002021"
      },
      "outputs": [
        {
          "data": {
            "text/plain": [
              "tensor([[0.5589, 0.2031, 0.5924, 0.8601],\n",
              "        [0.9113, 0.6773, 0.2537, 0.8337],\n",
              "        [0.3824, 0.0579, 0.6777, 0.7179]])"
            ]
          },
          "execution_count": 15,
          "metadata": {},
          "output_type": "execute_result"
        }
      ],
      "source": [
        "random_tensor = torch.rand(3,4)\n",
        "random_tensor"
      ]
    },
    {
      "cell_type": "code",
      "execution_count": 16,
      "metadata": {
        "colab": {
          "base_uri": "https://localhost:8080/"
        },
        "id": "WEuPuqRE71FY",
        "outputId": "945a3bf2-53b6-4de0-ecb1-55808341a5a4"
      },
      "outputs": [
        {
          "data": {
            "text/plain": [
              "2"
            ]
          },
          "execution_count": 16,
          "metadata": {},
          "output_type": "execute_result"
        }
      ],
      "source": [
        "random_tensor.ndim"
      ]
    },
    {
      "cell_type": "code",
      "execution_count": 17,
      "metadata": {
        "colab": {
          "base_uri": "https://localhost:8080/"
        },
        "id": "ZLBWun3r77il",
        "outputId": "db4aa0ff-399a-47da-fc57-e174b38a3765"
      },
      "outputs": [
        {
          "data": {
            "text/plain": [
              "(torch.Size([224, 224, 3]), 3)"
            ]
          },
          "execution_count": 17,
          "metadata": {},
          "output_type": "execute_result"
        }
      ],
      "source": [
        "# Create a tandom tensor with similar shape to an image tensor\n",
        "random_image_size_tensor = torch.rand(size=(224,224,3)) # h,w, colour channels (r,g,b)\n",
        "random_image_size_tensor.shape, random_image_size_tensor.ndim"
      ]
    },
    {
      "attachments": {},
      "cell_type": "markdown",
      "metadata": {},
      "source": [
        "### Other methods"
      ]
    },
    {
      "cell_type": "code",
      "execution_count": 18,
      "metadata": {},
      "outputs": [
        {
          "data": {
            "text/plain": [
              "tensor([[0., 0., 0., 0.],\n",
              "        [0., 0., 0., 0.],\n",
              "        [0., 0., 0., 0.]])"
            ]
          },
          "execution_count": 18,
          "metadata": {},
          "output_type": "execute_result"
        }
      ],
      "source": [
        "# Create a tensor of all zeros\n",
        "zeros = torch.zeros(size=(3,4))\n",
        "zeros"
      ]
    },
    {
      "cell_type": "code",
      "execution_count": 19,
      "metadata": {},
      "outputs": [
        {
          "data": {
            "text/plain": [
              "tensor([[1., 1., 1., 1.],\n",
              "        [1., 1., 1., 1.],\n",
              "        [1., 1., 1., 1.]])"
            ]
          },
          "execution_count": 19,
          "metadata": {},
          "output_type": "execute_result"
        }
      ],
      "source": [
        "# Create a tensor of all ones\n",
        "ones = torch.ones(size=(3,4))\n",
        "ones"
      ]
    },
    {
      "cell_type": "code",
      "execution_count": 20,
      "metadata": {},
      "outputs": [
        {
          "data": {
            "text/plain": [
              "torch.float32"
            ]
          },
          "execution_count": 20,
          "metadata": {},
          "output_type": "execute_result"
        }
      ],
      "source": [
        "ones.dtype"
      ]
    },
    {
      "attachments": {},
      "cell_type": "markdown",
      "metadata": {},
      "source": [
        "### Creating a range of tensors and tensors-like"
      ]
    },
    {
      "cell_type": "code",
      "execution_count": 21,
      "metadata": {},
      "outputs": [
        {
          "data": {
            "text/plain": [
              "tensor([ 1,  2,  3,  4,  5,  6,  7,  8,  9, 10])"
            ]
          },
          "execution_count": 21,
          "metadata": {},
          "output_type": "execute_result"
        }
      ],
      "source": [
        "one_to_ten = torch.arange(start=1,end=11, step=1)\n",
        "one_to_ten"
      ]
    },
    {
      "cell_type": "code",
      "execution_count": 22,
      "metadata": {},
      "outputs": [
        {
          "data": {
            "text/plain": [
              "tensor([0, 0, 0, 0, 0, 0, 0, 0, 0, 0])"
            ]
          },
          "execution_count": 22,
          "metadata": {},
          "output_type": "execute_result"
        }
      ],
      "source": [
        "ten_zeros = torch.zeros_like(input=one_to_ten)\n",
        "ten_zeros"
      ]
    },
    {
      "attachments": {},
      "cell_type": "markdown",
      "metadata": {},
      "source": [
        "## Tensor datatypes"
      ]
    },
    {
      "cell_type": "code",
      "execution_count": 24,
      "metadata": {},
      "outputs": [
        {
          "data": {
            "text/plain": [
              "(tensor([3., 6., 9.]), torch.float32)"
            ]
          },
          "execution_count": 24,
          "metadata": {},
          "output_type": "execute_result"
        }
      ],
      "source": [
        "float_32_tensor = torch.tensor([3.0,6.0,9.0],\n",
        "                                dtype=None, # datatype\n",
        "                                device=None, # cput / gpu / cuda\n",
        "                                requires_grad=False) # track gradients\n",
        "float_32_tensor, float_32_tensor.dtype"
      ]
    },
    {
      "cell_type": "code",
      "execution_count": null,
      "metadata": {},
      "outputs": [
        {
          "data": {
            "text/plain": [
              "tensor([3., 6., 9.], dtype=torch.float16)"
            ]
          },
          "execution_count": 23,
          "metadata": {},
          "output_type": "execute_result"
        }
      ],
      "source": [
        "float_16_tensor = float_32_tensor.type(torch.float16)\n",
        "float_16_tensor"
      ]
    },
    {
      "cell_type": "code",
      "execution_count": null,
      "metadata": {},
      "outputs": [
        {
          "data": {
            "text/plain": [
              "tensor([ 9., 36., 81.])"
            ]
          },
          "execution_count": 24,
          "metadata": {},
          "output_type": "execute_result"
        }
      ],
      "source": [
        "float_16_tensor*float_32_tensor"
      ]
    },
    {
      "cell_type": "code",
      "execution_count": null,
      "metadata": {},
      "outputs": [
        {
          "data": {
            "text/plain": [
              "tensor([3, 6, 9], dtype=torch.int32)"
            ]
          },
          "execution_count": 25,
          "metadata": {},
          "output_type": "execute_result"
        }
      ],
      "source": [
        "int_32_tensor = torch.tensor([3,6,9], dtype=torch.int32)\n",
        "int_32_tensor"
      ]
    },
    {
      "cell_type": "code",
      "execution_count": null,
      "metadata": {},
      "outputs": [
        {
          "data": {
            "text/plain": [
              "tensor([ 9., 36., 81.])"
            ]
          },
          "execution_count": 26,
          "metadata": {},
          "output_type": "execute_result"
        }
      ],
      "source": [
        "float_32_tensor*int_32_tensor"
      ]
    },
    {
      "attachments": {},
      "cell_type": "markdown",
      "metadata": {},
      "source": [
        "## Getting information from tensors"
      ]
    },
    {
      "cell_type": "code",
      "execution_count": null,
      "metadata": {},
      "outputs": [
        {
          "data": {
            "text/plain": [
              "tensor([[0.7898, 0.7835, 0.5309, 0.7678],\n",
              "        [0.3435, 0.8464, 0.6400, 0.7181],\n",
              "        [0.1409, 0.3365, 0.5492, 0.0565]])"
            ]
          },
          "execution_count": 27,
          "metadata": {},
          "output_type": "execute_result"
        }
      ],
      "source": [
        "some_tensor = torch.rand(3,4)\n",
        "some_tensor"
      ]
    },
    {
      "cell_type": "code",
      "execution_count": null,
      "metadata": {},
      "outputs": [
        {
          "name": "stdout",
          "output_type": "stream",
          "text": [
            "tensor([[0.7898, 0.7835, 0.5309, 0.7678],\n",
            "        [0.3435, 0.8464, 0.6400, 0.7181],\n",
            "        [0.1409, 0.3365, 0.5492, 0.0565]])\n",
            "Datatype of tensor: torch.float32\n",
            "Shape of tensor: torch.Size([3, 4])\n",
            "Device tensor is on: cpu\n"
          ]
        }
      ],
      "source": [
        "print(some_tensor)\n",
        "print(f\"Datatype of tensor: {some_tensor.dtype}\")\n",
        "print(f\"Shape of tensor: {some_tensor.size()}\") # equal to shape\n",
        "print(F\"Device tensor is on: {some_tensor.device}\")"
      ]
    },
    {
      "attachments": {},
      "cell_type": "markdown",
      "metadata": {},
      "source": [
        "## Manipulating tensors (tensors operations)"
      ]
    },
    {
      "attachments": {},
      "cell_type": "markdown",
      "metadata": {},
      "source": [
        "### Basic operations"
      ]
    },
    {
      "cell_type": "code",
      "execution_count": null,
      "metadata": {},
      "outputs": [
        {
          "data": {
            "text/plain": [
              "tensor([11, 12, 13])"
            ]
          },
          "execution_count": 29,
          "metadata": {},
          "output_type": "execute_result"
        }
      ],
      "source": [
        "tensor = torch.tensor([1,2,3])\n",
        "tensor+10"
      ]
    },
    {
      "cell_type": "code",
      "execution_count": null,
      "metadata": {},
      "outputs": [
        {
          "data": {
            "text/plain": [
              "tensor([10, 20, 30])"
            ]
          },
          "execution_count": 30,
          "metadata": {},
          "output_type": "execute_result"
        }
      ],
      "source": [
        "tensor*10"
      ]
    },
    {
      "cell_type": "code",
      "execution_count": null,
      "metadata": {},
      "outputs": [
        {
          "data": {
            "text/plain": [
              "tensor([-9, -8, -7])"
            ]
          },
          "execution_count": 31,
          "metadata": {},
          "output_type": "execute_result"
        }
      ],
      "source": [
        "tensor-10"
      ]
    },
    {
      "attachments": {},
      "cell_type": "markdown",
      "metadata": {},
      "source": [
        "### Matrix moltiplication\n",
        "### http://matrixmultiplication.xyz/"
      ]
    },
    {
      "cell_type": "code",
      "execution_count": null,
      "metadata": {},
      "outputs": [
        {
          "name": "stdout",
          "output_type": "stream",
          "text": [
            "tensor([1, 2, 3]) * tensor([1, 2, 3])\n",
            "= tensor([1, 4, 9])\n"
          ]
        }
      ],
      "source": [
        "print(tensor,\"*\",tensor)\n",
        "print(F\"= {tensor*tensor}\")"
      ]
    },
    {
      "cell_type": "code",
      "execution_count": null,
      "metadata": {},
      "outputs": [
        {
          "data": {
            "text/plain": [
              "tensor(14)"
            ]
          },
          "execution_count": 33,
          "metadata": {},
          "output_type": "execute_result"
        }
      ],
      "source": [
        "# Matrix moltiplication\n",
        "torch.matmul(tensor,tensor)"
      ]
    },
    {
      "cell_type": "code",
      "execution_count": null,
      "metadata": {},
      "outputs": [
        {
          "data": {
            "text/plain": [
              "14"
            ]
          },
          "execution_count": 34,
          "metadata": {},
          "output_type": "execute_result"
        }
      ],
      "source": [
        "# Matrix moltiplication by hand\n",
        "1*1 + 2*2 + 3*3"
      ]
    },
    {
      "cell_type": "code",
      "execution_count": null,
      "metadata": {},
      "outputs": [
        {
          "name": "stdout",
          "output_type": "stream",
          "text": [
            "CPU times: total: 0 ns\n",
            "Wall time: 997 µs\n"
          ]
        },
        {
          "data": {
            "text/plain": [
              "tensor(14)"
            ]
          },
          "execution_count": 35,
          "metadata": {},
          "output_type": "execute_result"
        }
      ],
      "source": [
        "%%time\n",
        "value = 0\n",
        "for i in range(len(tensor)):\n",
        "    value += tensor[i] * tensor[i]\n",
        "value"
      ]
    },
    {
      "cell_type": "code",
      "execution_count": null,
      "metadata": {},
      "outputs": [
        {
          "name": "stdout",
          "output_type": "stream",
          "text": [
            "CPU times: total: 0 ns\n",
            "Wall time: 995 µs\n"
          ]
        },
        {
          "data": {
            "text/plain": [
              "tensor(14)"
            ]
          },
          "execution_count": 36,
          "metadata": {},
          "output_type": "execute_result"
        }
      ],
      "source": [
        "%%time\n",
        "torch.matmul(tensor,tensor) # torch.mm"
      ]
    },
    {
      "cell_type": "code",
      "execution_count": null,
      "metadata": {},
      "outputs": [
        {
          "data": {
            "text/plain": [
              "tensor(14)"
            ]
          },
          "execution_count": 37,
          "metadata": {},
          "output_type": "execute_result"
        }
      ],
      "source": [
        "tensor @ tensor"
      ]
    },
    {
      "attachments": {},
      "cell_type": "markdown",
      "metadata": {},
      "source": [
        "### One of the most commor error in deep learning is \"shape error\""
      ]
    },
    {
      "cell_type": "code",
      "execution_count": null,
      "metadata": {},
      "outputs": [
        {
          "name": "stdout",
          "output_type": "stream",
          "text": [
            "torch.Size([3, 2]) torch.Size([3, 2])\n"
          ]
        },
        {
          "ename": "RuntimeError",
          "evalue": "mat1 and mat2 shapes cannot be multiplied (3x2 and 3x2)",
          "output_type": "error",
          "traceback": [
            "\u001b[1;31m---------------------------------------------------------------------------\u001b[0m",
            "\u001b[1;31mRuntimeError\u001b[0m                              Traceback (most recent call last)",
            "Cell \u001b[1;32mIn[38], line 15\u001b[0m\n\u001b[0;32m      7\u001b[0m tensor_B \u001b[39m=\u001b[39m torch\u001b[39m.\u001b[39mtensor([\n\u001b[0;32m      8\u001b[0m                         [\u001b[39m7\u001b[39m,\u001b[39m10\u001b[39m],\n\u001b[0;32m      9\u001b[0m                         [\u001b[39m8\u001b[39m,\u001b[39m11\u001b[39m],\n\u001b[0;32m     10\u001b[0m                         [\u001b[39m9\u001b[39m,\u001b[39m12\u001b[39m]\n\u001b[0;32m     11\u001b[0m                         ])\n\u001b[0;32m     13\u001b[0m \u001b[39mprint\u001b[39m(tensor_A\u001b[39m.\u001b[39mshape, tensor_B\u001b[39m.\u001b[39mshape)\n\u001b[1;32m---> 15\u001b[0m tensor_A \u001b[39m@\u001b[39;49m tensor_B\n",
            "\u001b[1;31mRuntimeError\u001b[0m: mat1 and mat2 shapes cannot be multiplied (3x2 and 3x2)"
          ]
        }
      ],
      "source": [
        "tensor_A = torch.tensor([\n",
        "                        [1,2],\n",
        "                        [3,4],\n",
        "                        [5,6]\n",
        "                        ])\n",
        "\n",
        "tensor_B = torch.tensor([\n",
        "                        [7,10],\n",
        "                        [8,11],\n",
        "                        [9,12]\n",
        "                        ])\n",
        "\n",
        "print(tensor_A.shape, tensor_B.shape)\n",
        "\n",
        "tensor_A @ tensor_B"
      ]
    },
    {
      "cell_type": "code",
      "execution_count": null,
      "metadata": {},
      "outputs": [
        {
          "data": {
            "text/plain": [
              "(tensor([[ 7, 10],\n",
              "         [ 8, 11],\n",
              "         [ 9, 12]]),\n",
              " torch.Size([3, 2]))"
            ]
          },
          "execution_count": 88,
          "metadata": {},
          "output_type": "execute_result"
        }
      ],
      "source": [
        "tensor_B, tensor_B.shape"
      ]
    },
    {
      "cell_type": "code",
      "execution_count": null,
      "metadata": {},
      "outputs": [
        {
          "data": {
            "text/plain": [
              "(tensor([[ 7,  8,  9],\n",
              "         [10, 11, 12]]),\n",
              " torch.Size([2, 3]))"
            ]
          },
          "execution_count": 89,
          "metadata": {},
          "output_type": "execute_result"
        }
      ],
      "source": [
        "# To fix tensor shape issues, we can manipulate the shape using transpose\n",
        "tensor_B.T, tensor_B.T.shape"
      ]
    },
    {
      "cell_type": "code",
      "execution_count": null,
      "metadata": {},
      "outputs": [
        {
          "data": {
            "text/plain": [
              "tensor([[ 27,  30,  33],\n",
              "        [ 61,  68,  75],\n",
              "        [ 95, 106, 117]])"
            ]
          },
          "execution_count": 91,
          "metadata": {},
          "output_type": "execute_result"
        }
      ],
      "source": [
        "tensor_A @ tensor_B.T"
      ]
    },
    {
      "cell_type": "code",
      "execution_count": null,
      "metadata": {},
      "outputs": [
        {
          "data": {
            "text/plain": [
              "torch.Size([3, 3])"
            ]
          },
          "execution_count": 93,
          "metadata": {},
          "output_type": "execute_result"
        }
      ],
      "source": [
        "(tensor_A @ tensor_B.T).shape"
      ]
    },
    {
      "attachments": {},
      "cell_type": "markdown",
      "metadata": {},
      "source": [
        "### Finding the min, max, mean, sum, etc (tensor aggregation)"
      ]
    },
    {
      "cell_type": "code",
      "execution_count": null,
      "metadata": {},
      "outputs": [
        {
          "data": {
            "text/plain": [
              "tensor([ 0., 10., 20., 30., 40., 50., 60., 70., 80., 90.])"
            ]
          },
          "execution_count": 99,
          "metadata": {},
          "output_type": "execute_result"
        }
      ],
      "source": [
        "x = torch.arange(0, 100, 10)\n",
        "x"
      ]
    },
    {
      "cell_type": "code",
      "execution_count": null,
      "metadata": {},
      "outputs": [
        {
          "data": {
            "text/plain": [
              "tensor(0)"
            ]
          },
          "execution_count": 96,
          "metadata": {},
          "output_type": "execute_result"
        }
      ],
      "source": [
        "x.min()"
      ]
    },
    {
      "cell_type": "code",
      "execution_count": null,
      "metadata": {},
      "outputs": [
        {
          "data": {
            "text/plain": [
              "tensor(0)"
            ]
          },
          "execution_count": 104,
          "metadata": {},
          "output_type": "execute_result"
        }
      ],
      "source": [
        "x.argmin() # index position"
      ]
    },
    {
      "cell_type": "code",
      "execution_count": null,
      "metadata": {},
      "outputs": [
        {
          "data": {
            "text/plain": [
              "tensor(90)"
            ]
          },
          "execution_count": 97,
          "metadata": {},
          "output_type": "execute_result"
        }
      ],
      "source": [
        "x.max()"
      ]
    },
    {
      "cell_type": "code",
      "execution_count": null,
      "metadata": {},
      "outputs": [
        {
          "data": {
            "text/plain": [
              "tensor(9)"
            ]
          },
          "execution_count": 105,
          "metadata": {},
          "output_type": "execute_result"
        }
      ],
      "source": [
        "x.argmax() # index position"
      ]
    },
    {
      "cell_type": "code",
      "execution_count": null,
      "metadata": {},
      "outputs": [
        {
          "data": {
            "text/plain": [
              "tensor(45.)"
            ]
          },
          "execution_count": 102,
          "metadata": {},
          "output_type": "execute_result"
        }
      ],
      "source": [
        "x.type(torch.float32).mean()"
      ]
    },
    {
      "cell_type": "code",
      "execution_count": null,
      "metadata": {},
      "outputs": [
        {
          "data": {
            "text/plain": [
              "tensor(450.)"
            ]
          },
          "execution_count": 103,
          "metadata": {},
          "output_type": "execute_result"
        }
      ],
      "source": [
        "x.sum()"
      ]
    },
    {
      "attachments": {},
      "cell_type": "markdown",
      "metadata": {},
      "source": [
        "### Reshaping, view, stacking, sqeezing. unsqueezing and permute tensors"
      ]
    },
    {
      "cell_type": "code",
      "execution_count": null,
      "metadata": {},
      "outputs": [
        {
          "data": {
            "text/plain": [
              "(tensor([1., 2., 3., 4., 5., 6., 7., 8., 9.]), torch.Size([9]))"
            ]
          },
          "execution_count": 39,
          "metadata": {},
          "output_type": "execute_result"
        }
      ],
      "source": [
        "# Create a tensor\n",
        "x = torch.arange(1.,10,)\n",
        "x, x.shape"
      ]
    },
    {
      "cell_type": "code",
      "execution_count": null,
      "metadata": {},
      "outputs": [
        {
          "data": {
            "text/plain": [
              "(tensor([[5., 2., 3., 4., 5., 6., 7., 8., 9.]]), torch.Size([1, 9]))"
            ]
          },
          "execution_count": 65,
          "metadata": {},
          "output_type": "execute_result"
        }
      ],
      "source": [
        "# Reshape a tensor\n",
        "x_reshaped = x.reshape(1,9)\n",
        "x_reshaped, x_reshaped.shape"
      ]
    },
    {
      "cell_type": "code",
      "execution_count": null,
      "metadata": {},
      "outputs": [
        {
          "data": {
            "text/plain": [
              "(tensor([[1., 2., 3., 4., 5., 6., 7., 8., 9.]]), torch.Size([1, 9]))"
            ]
          },
          "execution_count": 46,
          "metadata": {},
          "output_type": "execute_result"
        }
      ],
      "source": [
        "# View of a tensor\n",
        "z = x.view(1,9)\n",
        "z, z.shape\n",
        "\n",
        "# Changing z changes x because a view of a tensor \n",
        "# shares the same memory as the orginal"
      ]
    },
    {
      "cell_type": "code",
      "execution_count": null,
      "metadata": {},
      "outputs": [
        {
          "data": {
            "text/plain": [
              "(tensor([[5., 2., 3., 4., 5., 6., 7., 8., 9.]]),\n",
              " tensor([5., 2., 3., 4., 5., 6., 7., 8., 9.]))"
            ]
          },
          "execution_count": 61,
          "metadata": {},
          "output_type": "execute_result"
        }
      ],
      "source": [
        "z[:,0] = 5\n",
        "z, x"
      ]
    },
    {
      "cell_type": "code",
      "execution_count": null,
      "metadata": {},
      "outputs": [
        {
          "data": {
            "text/plain": [
              "tensor([[5., 2., 3., 4., 5., 6., 7., 8., 9.],\n",
              "        [5., 2., 3., 4., 5., 6., 7., 8., 9.],\n",
              "        [5., 2., 3., 4., 5., 6., 7., 8., 9.],\n",
              "        [5., 2., 3., 4., 5., 6., 7., 8., 9.]])"
            ]
          },
          "execution_count": 63,
          "metadata": {},
          "output_type": "execute_result"
        }
      ],
      "source": [
        "# Stack tensors on top of each other\n",
        "x_stacked = torch.stack([x,x,x,x], dim=0)\n",
        "x_stacked"
      ]
    },
    {
      "cell_type": "code",
      "execution_count": null,
      "metadata": {},
      "outputs": [
        {
          "data": {
            "text/plain": [
              "(tensor([[5., 2., 3., 4., 5., 6., 7., 8., 9.]]), torch.Size([1, 9]))"
            ]
          },
          "execution_count": 67,
          "metadata": {},
          "output_type": "execute_result"
        }
      ],
      "source": [
        "# Squeeze tensors\n",
        "x_reshaped, x_reshaped.shape"
      ]
    },
    {
      "cell_type": "code",
      "execution_count": null,
      "metadata": {},
      "outputs": [
        {
          "data": {
            "text/plain": [
              "(tensor([5., 2., 3., 4., 5., 6., 7., 8., 9.]), torch.Size([9]))"
            ]
          },
          "execution_count": 72,
          "metadata": {},
          "output_type": "execute_result"
        }
      ],
      "source": [
        "x_squeezed = x_reshaped.squeeze()\n",
        "x_squeezed, x_squeezed.shape"
      ]
    },
    {
      "cell_type": "code",
      "execution_count": null,
      "metadata": {},
      "outputs": [
        {
          "data": {
            "text/plain": [
              "(tensor([[5.],\n",
              "         [2.],\n",
              "         [3.],\n",
              "         [4.],\n",
              "         [5.],\n",
              "         [6.],\n",
              "         [7.],\n",
              "         [8.],\n",
              "         [9.]]),\n",
              " torch.Size([9, 1]))"
            ]
          },
          "execution_count": 76,
          "metadata": {},
          "output_type": "execute_result"
        }
      ],
      "source": [
        "# Unsqueeze - add a dimension at a specific dim\n",
        "x_squeezed.unsqueeze(dim=1), x_squeezed.unsqueeze(dim=1).shape"
      ]
    },
    {
      "cell_type": "code",
      "execution_count": null,
      "metadata": {},
      "outputs": [
        {
          "data": {
            "text/plain": [
              "torch.Size([3, 224, 224])"
            ]
          },
          "execution_count": 81,
          "metadata": {},
          "output_type": "execute_result"
        }
      ],
      "source": [
        "# Permute - rearrenges the dim of a tenos in a specific order\n",
        "x_original = torch.rand(size=(224,224,3)) # h,w, colour_ch\n",
        "\n",
        "x_permuted = x_original.permute(2,0,1) # shifts dim\n",
        "\n",
        "x_permuted.shape"
      ]
    },
    {
      "attachments": {},
      "cell_type": "markdown",
      "metadata": {},
      "source": [
        "### Indexing (selecting data from tensors)"
      ]
    },
    {
      "cell_type": "code",
      "execution_count": null,
      "metadata": {},
      "outputs": [
        {
          "data": {
            "text/plain": [
              "(tensor([[[1, 2, 3],\n",
              "          [4, 5, 6],\n",
              "          [7, 8, 9]]]),\n",
              " torch.Size([1, 3, 3]))"
            ]
          },
          "execution_count": 83,
          "metadata": {},
          "output_type": "execute_result"
        }
      ],
      "source": [
        "# Create a tensor\n",
        "x = torch.arange(1,10).reshape(1,3,3)\n",
        "x, x.shape"
      ]
    },
    {
      "cell_type": "code",
      "execution_count": null,
      "metadata": {},
      "outputs": [
        {
          "data": {
            "text/plain": [
              "tensor([[1, 2, 3],\n",
              "        [4, 5, 6],\n",
              "        [7, 8, 9]])"
            ]
          },
          "execution_count": 84,
          "metadata": {},
          "output_type": "execute_result"
        }
      ],
      "source": [
        "x[0]"
      ]
    },
    {
      "cell_type": "code",
      "execution_count": null,
      "metadata": {},
      "outputs": [
        {
          "data": {
            "text/plain": [
              "tensor([1, 2, 3])"
            ]
          },
          "execution_count": 85,
          "metadata": {},
          "output_type": "execute_result"
        }
      ],
      "source": [
        "x[0,0]"
      ]
    },
    {
      "cell_type": "code",
      "execution_count": null,
      "metadata": {},
      "outputs": [
        {
          "data": {
            "text/plain": [
              "tensor(1)"
            ]
          },
          "execution_count": 88,
          "metadata": {},
          "output_type": "execute_result"
        }
      ],
      "source": [
        "x[0][0][0]"
      ]
    },
    {
      "cell_type": "code",
      "execution_count": null,
      "metadata": {},
      "outputs": [
        {
          "data": {
            "text/plain": [
              "tensor([1, 2, 3])"
            ]
          },
          "execution_count": 90,
          "metadata": {},
          "output_type": "execute_result"
        }
      ],
      "source": [
        "# \":\" select \"all\" of a target dim\n",
        "x[0,0,:]"
      ]
    },
    {
      "attachments": {},
      "cell_type": "markdown",
      "metadata": {},
      "source": [
        "## Pytorch & NumPy"
      ]
    },
    {
      "attachments": {},
      "cell_type": "markdown",
      "metadata": {},
      "source": [
        "### NumPy to tensor"
      ]
    },
    {
      "cell_type": "code",
      "execution_count": null,
      "metadata": {},
      "outputs": [
        {
          "data": {
            "text/plain": [
              "(array([1., 2., 3., 4., 5., 6., 7.]),\n",
              " tensor([1., 2., 3., 4., 5., 6., 7.], dtype=torch.float64))"
            ]
          },
          "execution_count": 93,
          "metadata": {},
          "output_type": "execute_result"
        }
      ],
      "source": [
        "# NumPy array to tensor\n",
        "array = np.arange(1.0,8.0)\n",
        "tensor = torch.from_numpy(array)\n",
        "array, tensor"
      ]
    },
    {
      "cell_type": "code",
      "execution_count": null,
      "metadata": {},
      "outputs": [
        {
          "data": {
            "text/plain": [
              "dtype('float64')"
            ]
          },
          "execution_count": 94,
          "metadata": {},
          "output_type": "execute_result"
        }
      ],
      "source": [
        "array.dtype"
      ]
    },
    {
      "cell_type": "code",
      "execution_count": null,
      "metadata": {},
      "outputs": [
        {
          "data": {
            "text/plain": [
              "torch.float64"
            ]
          },
          "execution_count": 96,
          "metadata": {},
          "output_type": "execute_result"
        }
      ],
      "source": [
        "tensor.dtype # default dtype for torch is float32"
      ]
    },
    {
      "cell_type": "code",
      "execution_count": null,
      "metadata": {},
      "outputs": [
        {
          "data": {
            "text/plain": [
              "torch.float32"
            ]
          },
          "execution_count": 102,
          "metadata": {},
          "output_type": "execute_result"
        }
      ],
      "source": [
        "tensor = torch.from_numpy(array).type(torch.float32)\n",
        "tensor.dtype"
      ]
    },
    {
      "cell_type": "code",
      "execution_count": null,
      "metadata": {},
      "outputs": [
        {
          "data": {
            "text/plain": [
              "(array([2., 3., 4., 5., 6., 7., 8.]), tensor([1., 2., 3., 4., 5., 6., 7.]))"
            ]
          },
          "execution_count": 103,
          "metadata": {},
          "output_type": "execute_result"
        }
      ],
      "source": [
        "# Change data of array\n",
        "array = array + 1 # add 1 to alle elements\n",
        "array, tensor"
      ]
    },
    {
      "attachments": {},
      "cell_type": "markdown",
      "metadata": {},
      "source": [
        "### Tensor to NumPy"
      ]
    },
    {
      "cell_type": "code",
      "execution_count": null,
      "metadata": {},
      "outputs": [
        {
          "data": {
            "text/plain": [
              "tensor([1., 1., 1., 1., 1., 1., 1.])"
            ]
          },
          "execution_count": 104,
          "metadata": {},
          "output_type": "execute_result"
        }
      ],
      "source": [
        "tensor = torch.ones(7)\n",
        "tensor"
      ]
    },
    {
      "cell_type": "code",
      "execution_count": null,
      "metadata": {},
      "outputs": [
        {
          "data": {
            "text/plain": [
              "(tensor([1., 1., 1., 1., 1., 1., 1.]),\n",
              " array([1., 1., 1., 1., 1., 1., 1.], dtype=float32))"
            ]
          },
          "execution_count": 105,
          "metadata": {},
          "output_type": "execute_result"
        }
      ],
      "source": [
        "numpy_tensor = tensor.numpy()\n",
        "tensor, numpy_tensor"
      ]
    },
    {
      "attachments": {},
      "cell_type": "markdown",
      "metadata": {},
      "source": [
        "## Reproducibility (trying to take random out of random)"
      ]
    },
    {
      "cell_type": "code",
      "execution_count": null,
      "metadata": {},
      "outputs": [
        {
          "data": {
            "text/plain": [
              "tensor([[0.8823, 0.9150, 0.3829, 0.9593],\n",
              "        [0.3904, 0.6009, 0.2566, 0.7936],\n",
              "        [0.9408, 0.1332, 0.9346, 0.5936]])"
            ]
          },
          "execution_count": 118,
          "metadata": {},
          "output_type": "execute_result"
        }
      ],
      "source": [
        "# Set the random seed\n",
        "RANDOM_SEED = 42\n",
        "torch.manual_seed(RANDOM_SEED) # if you want to set the randomness manually, you need to call this everytime you cal a random function\n",
        "random_tensor = torch.rand(3,4)\n",
        "random_tensor"
      ]
    }
  ],
  "metadata": {
    "colab": {
      "authorship_tag": "ABX9TyN990bJwPIyPLM/pi9ff3Z9",
      "collapsed_sections": [
        "J720o2AxqslJ",
        "Whurt4hDqdW8",
        "xRzUNyBoqiZ8"
      ],
      "provenance": []
    },
    "gpuClass": "standard",
    "kernelspec": {
      "display_name": "Python 3",
      "language": "python",
      "name": "python3"
    },
    "language_info": {
      "codemirror_mode": {
        "name": "ipython",
        "version": 3
      },
      "file_extension": ".py",
      "mimetype": "text/x-python",
      "name": "python",
      "nbconvert_exporter": "python",
      "pygments_lexer": "ipython3",
      "version": "3.10.2"
    },
    "vscode": {
      "interpreter": {
        "hash": "c9da990afdec907cac2dbe6450b8a557c80f06d86a6c4c69244408a1d9666aea"
      }
    }
  },
  "nbformat": 4,
  "nbformat_minor": 0
}
